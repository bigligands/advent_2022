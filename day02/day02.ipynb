{
 "cells": [
  {
   "cell_type": "code",
   "execution_count": 9,
   "metadata": {
    "dotnet_interactive": {
     "language": "fsharp"
    },
    "polyglot_notebook": {
     "language": "fsharp"
    }
   },
   "outputs": [
    {
     "name": "stdout",
     "output_type": "stream",
     "text": [
      "9241\n"
     ]
    }
   ],
   "source": [
    "// Day 02 Part 01\n",
    "let input = File.ReadAllLines(\"input.txt\") |> List.ofArray\n",
    "\n",
    "let compare_moves (opponent:string) (me:string) =\n",
    "    let my_hand_value = ((me |> Encoding.UTF8.GetBytes)[0] |> int) - 87\n",
    "    match opponent with\n",
    "    | \"A\" -> ([\"Z\";\"X\";\"Y\"] |> List.findIndex(fun i -> i = me)) * 3 + my_hand_value\n",
    "    | \"B\" -> ([\"X\";\"Y\";\"Z\"] |> List.findIndex(fun i -> i = me)) * 3 + my_hand_value\n",
    "    | \"C\" -> ([\"Y\";\"Z\";\"X\"] |> List.findIndex(fun i -> i = me)) * 3 + my_hand_value\n",
    "    | _ -> 0\n",
    "\n",
    "let rec get_score (input:string list) (acc:int) =\n",
    "    match input with\n",
    "    | head :: tail ->\n",
    "        let (opponent, me) = head.Split(\" \")[0], head.Split(\" \")[1]\n",
    "        get_score tail (acc + compare_moves opponent me)\n",
    "    | [] -> acc\n",
    "\n",
    "let points = get_score input 0\n",
    "printfn \"%d\" points"
   ]
  },
  {
   "cell_type": "code",
   "execution_count": 41,
   "metadata": {
    "dotnet_interactive": {
     "language": "fsharp"
    }
   },
   "outputs": [
    {
     "name": "stdout",
     "output_type": "stream",
     "text": [
      "14610\n"
     ]
    }
   ],
   "source": [
    "// Day 02 Part 02\n",
    "let input = File.ReadAllLines(\"input.txt\") |> List.ofArray\n",
    "\n",
    "let compare_moves (opponent:string) (me:string) =\n",
    "    let my_hand_value = ((me |> Encoding.UTF8.GetBytes)[0] |> int) - 87\n",
    "    match me with\n",
    "    | \"X\" -> ([\"B\";\"C\";\"A\"] |> List.findIndex(fun i -> i = opponent)) + 1\n",
    "    | \"Y\" -> ([\"A\";\"B\";\"C\"] |> List.findIndex(fun i -> i = opponent)) + 4\n",
    "    | \"Z\" -> ([\"C\";\"A\";\"B\"] |> List.findIndex(fun i -> i = opponent)) + 7\n",
    "    | _ -> 0\n",
    "\n",
    "let rec get_score (input:string list) (acc:int) =\n",
    "    match input with\n",
    "    | head :: tail ->\n",
    "        let (opponent, me) = head.Split(\" \")[0], head.Split(\" \")[1]\n",
    "        get_score tail (acc + compare_moves opponent me)\n",
    "    | [] -> acc\n",
    "\n",
    "let points = get_score input 0\n",
    "printfn \"%d\" points"
   ]
  },
  {
   "cell_type": "code",
   "execution_count": 30,
   "metadata": {
    "dotnet_interactive": {
     "language": "csharp"
    },
    "polyglot_notebook": {
     "kernelName": "csharp"
    }
   },
   "outputs": [
    {
     "name": "stdout",
     "output_type": "stream",
     "text": [
      "9241\r\n"
     ]
    }
   ],
   "source": [
    "// Part 01 C#\n",
    "var input = System.IO.File.ReadAllLines(\"input.txt\").ToList();\n",
    "\n",
    "static Func<string, string, int> compare_moves = (string opponent, string me) =>\n",
    "    {\n",
    "        var my_hand_value = Encoding.UTF8.GetBytes(me).First() - 87;\n",
    "        return opponent switch\n",
    "        {\n",
    "            \"A\" => (new List<string>(){\"Z\", \"X\", \"Y\"}.IndexOf(me)) * 3 + my_hand_value, \n",
    "            \"B\" => (new List<string>(){\"X\", \"Y\", \"Z\"}.IndexOf(me)) * 3 + my_hand_value, \n",
    "            \"C\" => (new List<string>(){\"Y\", \"Z\", \"X\"}.IndexOf(me)) * 3 + my_hand_value, \n",
    "            _ => 0,\n",
    "        };\n",
    "    };\n",
    "\n",
    "static int get_score(List<string> input, int acc)\n",
    "{\n",
    "    if (input.Count == 0) return acc;\n",
    "    if (input.First().Split(' ') is [var opponent, var me])\n",
    "    {\n",
    "        return get_score(input.Skip(1).ToList(), acc + compare_moves(opponent, me));\n",
    "    }\n",
    "    return acc;\n",
    "}\n",
    "\n",
    "var result = get_score(input, 0);\n",
    "Console.WriteLine(result);"
   ]
  },
  {
   "cell_type": "code",
   "execution_count": 27,
   "metadata": {
    "dotnet_interactive": {
     "language": "csharp"
    },
    "polyglot_notebook": {
     "kernelName": "csharp"
    }
   },
   "outputs": [
    {
     "name": "stdout",
     "output_type": "stream",
     "text": [
      "14610\r\n"
     ]
    }
   ],
   "source": [
    "// Part 02 C#\n",
    "var input = System.IO.File.ReadAllLines(\"input.txt\").ToList();\n",
    "\n",
    "static Func<string, string, int> compare_moves = (string opponent, string me) =>\n",
    "    {\n",
    "        return me switch\n",
    "        {\n",
    "            \"X\" => (new List<string>(){\"B\", \"C\", \"A\"}.IndexOf(opponent)) + 1, // Lose\n",
    "            \"Y\" => (new List<string>(){\"A\", \"B\", \"C\"}.IndexOf(opponent)) + 4, // Draw\n",
    "            \"Z\" => (new List<string>(){\"C\", \"A\", \"B\"}.IndexOf(opponent)) + 7, // Win\n",
    "            _ => 0,\n",
    "        };\n",
    "    };\n",
    "\n",
    "static int get_score(List<string> input, int acc)\n",
    "{\n",
    "    if (input.Count == 0) return acc;\n",
    "    if (input.First().Split(' ') is [var opponent, var me])\n",
    "    {\n",
    "        return get_score(input.Skip(1).ToList(), acc + compare_moves(opponent, me));\n",
    "    }\n",
    "    return acc;\n",
    "}\n",
    "\n",
    "var result = get_score(input, 0);\n",
    "Console.WriteLine(result);"
   ]
  }
 ],
 "metadata": {
  "kernelspec": {
   "display_name": ".NET (C#)",
   "language": "C#",
   "name": ".net-csharp"
  },
  "polyglot_notebook": {
   "kernelInfo": {
    "defaultKernelName": "csharp",
    "items": [
     {
      "aliases": [],
      "name": "csharp"
     }
    ]
   }
  }
 },
 "nbformat": 4,
 "nbformat_minor": 2
}
