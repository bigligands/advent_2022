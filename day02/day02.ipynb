{
 "cells": [
  {
   "cell_type": "code",
   "execution_count": 3,
   "metadata": {
    "dotnet_interactive": {
     "language": "fsharp"
    },
    "polyglot_notebook": {
     "language": "fsharp"
    },
    "vscode": {
     "languageId": "dotnet-interactive.fsharp"
    }
   },
   "outputs": [
    {
     "name": "stdout",
     "output_type": "stream",
     "text": [
      "9241\r\n"
     ]
    }
   ],
   "source": [
    "// Day 02 Part 01\n",
    "\n",
    "let input = File.ReadAllLines(\"input.txt\")\n",
    "\n",
    "let mutable score = 0\n",
    "\n",
    "for line in input do\n",
    "    let split = line.Split(\" \")\n",
    "    let (opponent, me) = (split[0], split[1])\n",
    "    match opponent with\n",
    "    | \"A\" -> \n",
    "        match me with\n",
    "        | \"X\" -> score <- score + 1 + 3\n",
    "        | \"Y\" -> score <- score + 2 + 6\n",
    "        | \"Z\" -> score <- score + 3 + 0\n",
    "    | \"B\" -> \n",
    "        match me with\n",
    "        | \"X\" -> score <- score + 1 + 0\n",
    "        | \"Y\" -> score <- score + 2 + 3\n",
    "        | \"Z\" -> score <- score + 3 + 6\n",
    "    | \"C\" -> \n",
    "        match me with\n",
    "        | \"X\" -> score <- score + 1 + 6\n",
    "        | \"Y\" -> score <- score + 2 + 0\n",
    "        | \"Z\" -> score <- score + 3 + 3\n",
    "\n",
    "printfn \"%d\" score"
   ]
  },
  {
   "cell_type": "code",
   "execution_count": 2,
   "metadata": {
    "dotnet_interactive": {
     "language": "fsharp"
    },
    "vscode": {
     "languageId": "dotnet-interactive.fsharp"
    }
   },
   "outputs": [
    {
     "name": "stdout",
     "output_type": "stream",
     "text": [
      "14610\r\n"
     ]
    }
   ],
   "source": [
    "// Day 03 Part 02\n",
    "\n",
    "let input = File.ReadAllLines(\"input.txt\") |> Array.toList\n",
    "\n",
    "let get_score input =\n",
    "    let rec analyze_game (input : list<string>) (acc : int) =\n",
    "        match input with\n",
    "            | head :: tail ->\n",
    "                let split = head.Split(\" \")\n",
    "                let (opponent, me) = (split[0], split[1])\n",
    "                match opponent with\n",
    "                | \"A\" -> \n",
    "                    match me with\n",
    "                    | \"X\" -> analyze_game tail (acc + 3 + 0)\n",
    "                    | \"Y\" -> analyze_game tail (acc + 1 + 3)\n",
    "                    | \"Z\" -> analyze_game tail (acc + 2 + 6)\n",
    "                    | _ -> acc\n",
    "                | \"B\" -> \n",
    "                    match me with\n",
    "                    | \"X\" -> analyze_game tail (acc + 1 + 0)\n",
    "                    | \"Y\" -> analyze_game tail (acc + 2 + 3)\n",
    "                    | \"Z\" -> analyze_game tail (acc + 3 + 6)\n",
    "                    | _ -> acc\n",
    "                | \"C\" -> \n",
    "                    match me with\n",
    "                    | \"X\" -> analyze_game tail (acc + 2 + 0)\n",
    "                    | \"Y\" -> analyze_game tail (acc + 3 + 3)\n",
    "                    | \"Z\" -> analyze_game tail (acc + 1 + 6)\n",
    "                    | _ -> acc\n",
    "                | _ -> acc\n",
    "            | [] -> acc\n",
    "    analyze_game input 0\n",
    "\n",
    "let result = get_score input\n",
    "printfn \"%d\" result"
   ]
  }
 ],
 "metadata": {
  "kernelspec": {
   "display_name": ".NET (F#)",
   "language": "F#",
   "name": ".net-fsharp"
  },
  "language_info": {
   "name": "F#"
  }
 },
 "nbformat": 4,
 "nbformat_minor": 2
}
