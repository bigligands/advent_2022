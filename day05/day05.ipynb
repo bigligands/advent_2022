{
 "cells": [
  {
   "cell_type": "code",
   "execution_count": 121,
   "metadata": {
    "dotnet_interactive": {
     "language": "fsharp"
    },
    "polyglot_notebook": {
     "language": "fsharp"
    },
    "vscode": {
     "languageId": "dotnet-interactive.fsharp"
    }
   },
   "outputs": [
    {
     "name": "stdout",
     "output_type": "stream",
     "text": [
      "['M'; 'Q'; 'T'; 'P'; 'G'; 'L'; 'L'; 'D'; 'N']\r\n"
     ]
    }
   ],
   "source": [
    "// Day 05 Part 1\n",
    "open System.Text.RegularExpressions\n",
    "\n",
    "let input = File.ReadAllText(\"input.txt\")\n",
    "let sections = input.Split(\"\\n\\r\") // newline -> carriage return\n",
    "\n",
    "let (raw_crates, directions) = \n",
    "    (sections[0], sections[1].Split(\"\\n\") |> Array.removeAt(0) |> Array.toList)\n",
    "\n",
    "let extract_crates (input: 'T array) (indeces : int array) =\n",
    "    [|for i in indexes do yield input[i]|]\n",
    "\n",
    "let pivot_crates (indexes : int array) (input: 'T [,])=\n",
    "    [| for i in indexes do yield input[0..7, i] |> Array.rev|] // orient the crates in a meaningful way for indexing\n",
    "    \n",
    "let trim_crates (crates: char array) =\n",
    "    [for c in crates do if c <> ' ' then yield c]\n",
    "\n",
    "let parse_directions (dir : string) =\n",
    "    let pattern = Regex(@\"move (\\d*) from (\\d*) to (\\d*)\")\n",
    "    let matches = dir |> pattern.Match\n",
    "    match matches.Success with\n",
    "    | true -> \n",
    "        Some [|for i in [1..3] do yield matches.Groups[i].Value |> int|]\n",
    "    | false -> None\n",
    "\n",
    "let rec process_instruction (instructions: list<string>) (crates: list<char list>) =\n",
    "    match instructions with\n",
    "    | head :: tail -> \n",
    "        match parse_directions head with\n",
    "        | Some values -> \n",
    "            let dir_values = values |> Seq.toList // obtain the directions numeric values\n",
    "            let (amount, from, onto) = (dir_values[0], dir_values[1], dir_values[2])\n",
    "            let n = crates[from - 1].Length // length of the stack getting pulled from\n",
    "            let buffer = crates[from - 1][n - amount..n] |> List.rev // grab n crates from stack and place one at a time (rev)\n",
    "            let restacked_crates =\n",
    "                crates\n",
    "                |> List.mapi (fun i stack -> \n",
    "                    match i with\n",
    "                    | f when f = from - 1 -> // pull from the `from` stack\n",
    "                        stack |> List.removeManyAt (stack.Length - amount) amount\n",
    "                    | o when o = onto - 1 -> // add to the `onto` stack\n",
    "                        buffer |> List.append stack\n",
    "                    | _ -> stack)\n",
    "            process_instruction tail restacked_crates\n",
    "        | None -> process_instruction [] []        \n",
    "    | [] -> crates\n",
    "\n",
    "\n",
    "let crates = \n",
    "    raw_crates.Split(\"\\n\") \n",
    "    |> Array.map(fun row_str -> row_str.TrimEnd().ToCharArray()) // trim trailing chars from string and convert to char array\n",
    "    |> Array.map (fun row -> extract_crates row [|1..4..34|]) // extract chars from their positions in the representation\n",
    "    |> array2D // jagged array to 2darray\n",
    "    |> pivot_crates [|0..8|] // pivot the columns into rows\n",
    "    |> Array.toList\n",
    "    |> List.map (fun c -> trim_crates c) // trim the whitespace from the rows\n",
    "\n",
    "let new_crate_stacks = process_instruction directions crates\n",
    "\n",
    "let top_crates =\n",
    "    new_crate_stacks\n",
    "    |> List.map (fun crates -> crates |> List.last) // grab the top crate from each stack\n",
    "\n",
    "printfn \"%A\" top_crates"
   ]
  },
  {
   "cell_type": "code",
   "execution_count": 122,
   "metadata": {
    "dotnet_interactive": {
     "language": "fsharp"
    },
    "vscode": {
     "languageId": "dotnet-interactive.fsharp"
    }
   },
   "outputs": [
    {
     "name": "stdout",
     "output_type": "stream",
     "text": [
      "['L'; 'V'; 'Z'; 'P'; 'S'; 'T'; 'T'; 'C'; 'Z']\r\n"
     ]
    }
   ],
   "source": [
    "\n",
    "// Day 05 Part 2\n",
    "open System.Text.RegularExpressions\n",
    "\n",
    "let input = File.ReadAllText(\"input.txt\")\n",
    "let sections = input.Split(\"\\n\\r\") // newline -> carriage return\n",
    "\n",
    "let (raw_crates, directions) = \n",
    "    (sections[0], sections[1].Split(\"\\n\") |> Array.removeAt(0) |> Array.toList)\n",
    "\n",
    "let extract_crates (input: 'T array) (indeces : int array) =\n",
    "    [|for i in indexes do yield input[i]|]\n",
    "\n",
    "let pivot_crates (indexes : int array) (input: 'T [,])=\n",
    "    [| for i in indexes do yield input[0..7, i] |> Array.rev|] // orient the crates in a meaningful way for indexing\n",
    "    \n",
    "let trim_crates (crates: char array) =\n",
    "    [for c in crates do if c <> ' ' then yield c]\n",
    "\n",
    "let parse_directions (dir : string) =\n",
    "    let pattern = Regex(@\"move (\\d*) from (\\d*) to (\\d*)\")\n",
    "    let matches = dir |> pattern.Match\n",
    "    match matches.Success with\n",
    "    | true -> \n",
    "        Some [|for i in [1..3] do yield matches.Groups[i].Value |> int|]\n",
    "    | false -> None\n",
    "\n",
    "let rec process_instruction (instructions: list<string>) (crates: list<char list>) =\n",
    "    match instructions with\n",
    "    | head :: tail -> \n",
    "        match parse_directions head with\n",
    "        | Some values -> \n",
    "            let dir_values = values |> Seq.toList // obtain the directions numeric values\n",
    "            let (amount, from, onto) = (dir_values[0], dir_values[1], dir_values[2])\n",
    "            let n = crates[from - 1].Length // length of the stack getting pulled from\n",
    "            let buffer = crates[from - 1][n - amount..n] // grab n crates from stack\n",
    "            let restacked_crates =\n",
    "                crates\n",
    "                |> List.mapi (fun i stack -> \n",
    "                    match i with\n",
    "                    | f when f = from - 1 -> // pull from the `from` stack\n",
    "                        stack |> List.removeManyAt (stack.Length - amount) amount\n",
    "                    | o when o = onto - 1 -> // add to the `onto` stack\n",
    "                        buffer |> List.append stack\n",
    "                    | _ -> stack)\n",
    "            process_instruction tail restacked_crates\n",
    "        | None -> process_instruction [] []        \n",
    "    | [] -> crates\n",
    "\n",
    "\n",
    "let crates = \n",
    "    raw_crates.Split(\"\\n\") \n",
    "    |> Array.map(fun row_str -> row_str.TrimEnd().ToCharArray()) // trim trailing chars from string and convert to char array\n",
    "    |> Array.map (fun row -> extract_crates row [|1..4..34|]) // extract chars from their positions in the representation\n",
    "    |> array2D // jagged array to 2darray\n",
    "    |> pivot_crates [|0..8|] // pivot the columns into rows\n",
    "    |> Array.toList\n",
    "    |> List.map (fun c -> trim_crates c) // trim the whitespace from the rows\n",
    "\n",
    "let new_crate_stacks = process_instruction directions crates\n",
    "\n",
    "let top_crates =\n",
    "    new_crate_stacks\n",
    "    |> List.map (fun crates -> crates |> List.last) // grab the top crate from each stack\n",
    "\n",
    "printfn \"%A\" top_crates"
   ]
  }
 ],
 "metadata": {
  "kernelspec": {
   "display_name": ".NET (F#)",
   "language": "F#",
   "name": ".net-fsharp"
  },
  "language_info": {
   "name": "F#"
  }
 },
 "nbformat": 4,
 "nbformat_minor": 2
}
