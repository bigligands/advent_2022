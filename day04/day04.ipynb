{
 "cells": [
  {
   "cell_type": "code",
   "execution_count": 17,
   "metadata": {
    "dotnet_interactive": {
     "language": "fsharp"
    },
    "polyglot_notebook": {
     "language": "fsharp"
    },
    "vscode": {
     "languageId": "dotnet-interactive.fsharp"
    }
   },
   "outputs": [
    {
     "name": "stdout",
     "output_type": "stream",
     "text": [
      "496\r\n"
     ]
    }
   ],
   "source": [
    "// Day 04 pt 1\n",
    "\n",
    "let input = File.ReadAllLines(@\"input.txt\") |> Array.toList\n",
    "\n",
    "let find_overlaps (input : List<string>) =\n",
    "    let rec compare_sections (input : List<string>) (acc : int) =\n",
    "        match input with\n",
    "        | line :: remaining_input -> \n",
    "            let sections = line.Split(\",\") |> Array.map(fun (element : string) -> element.Split(\"-\"))\n",
    "            let (section_one, section_two) = (sections[0], sections[1])\n",
    "            let range_one = [int section_one[0] .. int section_one[1]] |> Set.ofList\n",
    "            let range_two = [int section_two[0] .. int section_two[1]] |> Set.ofList\n",
    "            let combined_set = range_one + range_two\n",
    "            let count = combined_set |> Set.count\n",
    "            if count = (range_one |> Set.count) || count = (range_two |> Set.count) then compare_sections remaining_input (acc + 1)\n",
    "            else compare_sections remaining_input acc\n",
    "        | [] -> acc\n",
    "    compare_sections input 0\n",
    "\n",
    "let overlapped_assignments = find_overlaps input\n",
    "printfn \"%d\" overlapped_assignments"
   ]
  },
  {
   "cell_type": "code",
   "execution_count": 18,
   "metadata": {
    "dotnet_interactive": {
     "language": "fsharp"
    },
    "vscode": {
     "languageId": "dotnet-interactive.fsharp"
    }
   },
   "outputs": [
    {
     "name": "stdout",
     "output_type": "stream",
     "text": [
      "847\r\n"
     ]
    }
   ],
   "source": [
    "\n",
    "// Day 04 pt 2\n",
    "\n",
    "let input = File.ReadAllLines(@\"input.txt\") |> Array.toList\n",
    "\n",
    "let find_overlaps (input : List<string>) =\n",
    "    let rec compare_sections (input : List<string>) (acc : int) =\n",
    "        match input with\n",
    "        | line :: remaining_input -> \n",
    "            let sections = line.Split(\",\") |> Array.map(fun (element : string) -> element.Split(\"-\"))\n",
    "            let (section_one, section_two) = (sections[0], sections[1])\n",
    "            let range_one = [int section_one[0] .. int section_one[1]] |> Set.ofList\n",
    "            let range_two = [int section_two[0] .. int section_two[1]] |> Set.ofList\n",
    "            let combined_set = range_one + range_two\n",
    "            let count = combined_set |> Set.count\n",
    "            if count = (range_one |> Set.count) + (range_two |> Set.count) then compare_sections remaining_input acc\n",
    "            else compare_sections remaining_input (acc + 1)\n",
    "        | [] -> acc\n",
    "    compare_sections input 0\n",
    "\n",
    "let overlapped_assignments = find_overlaps input\n",
    "printfn \"%d\" overlapped_assignments"
   ]
  }
 ],
 "metadata": {
  "kernelspec": {
   "display_name": ".NET (F#)",
   "language": "F#",
   "name": ".net-fsharp"
  },
  "language_info": {
   "name": "F#"
  }
 },
 "nbformat": 4,
 "nbformat_minor": 2
}
