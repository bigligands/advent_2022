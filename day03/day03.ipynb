{
 "cells": [
  {
   "cell_type": "code",
   "execution_count": 3,
   "metadata": {
    "dotnet_interactive": {
     "language": "fsharp"
    },
    "polyglot_notebook": {
     "language": "fsharp"
    },
    "vscode": {
     "languageId": "dotnet-interactive.fsharp"
    }
   },
   "outputs": [
    {
     "name": "stdout",
     "output_type": "stream",
     "text": [
      "7428\r\n"
     ]
    }
   ],
   "source": [
    "// Day 03 Pt 1\n",
    "\n",
    "let input = File.ReadAllLines(@\"input.txt\") |> Array.toList\n",
    "\n",
    "let analyze_compartments input =\n",
    "    let rec get_priorities input priorities =\n",
    "        match input with\n",
    "        |line :: tail ->\n",
    "            let compartment_size = line |> String.length \n",
    "            let compartment_one = line[0 .. compartment_size/2 - 1] |> Seq.toList |> Set.ofList // create a set from each compartment\n",
    "            let compartment_two = line[compartment_size/2 ..] |> Seq.toList |> Set.ofList\n",
    "            let duplicate = Set.intersect compartment_one compartment_two // intersection of 2 sets is common items\n",
    "            let priority =  // convert char to priority value\n",
    "                match Char.IsUpper(Set.maxElement duplicate) with\n",
    "                | true -> Set.fold (fun acc element -> acc + int element - 38) 0 duplicate\n",
    "                | false -> Set.fold (fun acc element -> acc + int element - 96) 0 duplicate\n",
    "            get_priorities tail (priority + priorities) \n",
    "        |[] -> priorities\n",
    "    get_priorities input 0\n",
    "\n",
    "let priorities = analyze_compartments input\n",
    "printfn \"%A\" priorities"
   ]
  },
  {
   "cell_type": "code",
   "execution_count": 2,
   "metadata": {
    "dotnet_interactive": {
     "language": "fsharp"
    },
    "vscode": {
     "languageId": "dotnet-interactive.fsharp"
    }
   },
   "outputs": [
    {
     "name": "stdout",
     "output_type": "stream",
     "text": [
      "2650\r\n"
     ]
    }
   ],
   "source": [
    "\n",
    "// Day 03 Pt 2\n",
    "// need to accumulate over 3 lines, so make accumulator a list and match its length\n",
    "// will need 2 accumulators: the buffer for the 3 lines and the total accumulation\n",
    "let input = File.ReadAllLines(@\"input.txt\") |> Array.toList\n",
    "\n",
    "let get_badge_score (input : list<string>) =\n",
    "\n",
    "    let match_priority c = \n",
    "        match Char.IsUpper(c) with\n",
    "        | true -> int c - 38\n",
    "        | false -> int c - 96\n",
    "\n",
    "    let rec get_priorities (input : list<string>) (buffer : list<Set<char>>) (priorities: int) =\n",
    "        match input with\n",
    "        |line :: tail ->\n",
    "            match List.length buffer with\n",
    "            | 3 -> // when the buffer is full\n",
    "                let line_seq = line |> Set.ofSeq\n",
    "                let badge = buffer |> Seq.ofList |> Set.intersectMany |> Set.maxElement\n",
    "                let priority =  match_priority badge // get priority value for char\n",
    "                get_priorities tail [line_seq] (priorities + priority)\n",
    "            | _ -> \n",
    "                let line_seq = line |> Set.ofSeq\n",
    "                get_priorities tail (buffer @ [line_seq]) priorities\n",
    "        |[] -> // assuming empty list will have a full buffer\n",
    "            let badge = buffer |> Seq.ofList |> Set.intersectMany |> Set.maxElement\n",
    "            let priority = match_priority badge\n",
    "            priorities + priority // return the final badge priority score\n",
    "    get_priorities input [] 0 // initialize recursive function with empty accumulators\n",
    "\n",
    "let badgeScore = get_badge_score input\n",
    "printfn \"%A\" badgeScore"
   ]
  }
 ],
 "metadata": {
  "kernelspec": {
   "display_name": ".NET (F#)",
   "language": "F#",
   "name": ".net-fsharp"
  },
  "language_info": {
   "name": "F#"
  }
 },
 "nbformat": 4,
 "nbformat_minor": 2
}
