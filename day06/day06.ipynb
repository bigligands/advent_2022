{
 "cells": [
  {
   "cell_type": "code",
   "execution_count": 9,
   "metadata": {
    "dotnet_interactive": {
     "language": "fsharp"
    },
    "polyglot_notebook": {
     "language": "fsharp"
    },
    "vscode": {
     "languageId": "dotnet-interactive.fsharp"
    }
   },
   "outputs": [
    {
     "name": "stdout",
     "output_type": "stream",
     "text": [
      "1625\r\n"
     ]
    }
   ],
   "source": [
    "// Day 06 Part 1\n",
    "\n",
    "let input = File.ReadAllText(\"input.txt\").ToCharArray()\n",
    "let len = input.Length\n",
    "\n",
    "let rec find_start i window =\n",
    "    match window with\n",
    "    | head :: tail ->\n",
    "        let window_len = head |> Set.ofArray |> Set.count\n",
    "        match window_len with\n",
    "        | 4 -> i\n",
    "        | x -> find_start (i + 1) tail\n",
    "    | [] -> i\n",
    "\n",
    "let x =\n",
    "    input\n",
    "    |> Array.windowed 4\n",
    "    |> Array.toList\n",
    "    |> find_start 4\n",
    "\n",
    "printfn \"%A\" x"
   ]
  },
  {
   "cell_type": "code",
   "execution_count": 13,
   "metadata": {
    "dotnet_interactive": {
     "language": "fsharp"
    },
    "vscode": {
     "languageId": "dotnet-interactive.fsharp"
    }
   },
   "outputs": [
    {
     "name": "stdout",
     "output_type": "stream",
     "text": [
      "2250\r\n"
     ]
    }
   ],
   "source": [
    "\n",
    "// Day 06 Part 2\n",
    "\n",
    "let input = File.ReadAllText(\"input.txt\").ToCharArray()\n",
    "let len = input.Length\n",
    "\n",
    "let rec find_start i window =\n",
    "    match window with\n",
    "    | head :: tail ->\n",
    "        let window_len = head |> Set.ofArray |> Set.count\n",
    "        match window_len with\n",
    "        | 14 -> i\n",
    "        | x -> find_start (i + 1) tail\n",
    "    | [] -> i\n",
    "\n",
    "let x =\n",
    "    input\n",
    "    |> Array.windowed 14\n",
    "    |> Array.toList\n",
    "    |> find_start 14\n",
    "\n",
    "printfn \"%A\" x"
   ]
  }
 ],
 "metadata": {
  "kernelspec": {
   "display_name": ".NET (F#)",
   "language": "F#",
   "name": ".net-fsharp"
  },
  "language_info": {
   "name": "F#"
  }
 },
 "nbformat": 4,
 "nbformat_minor": 2
}
