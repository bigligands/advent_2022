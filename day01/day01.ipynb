{
 "cells": [
  {
   "cell_type": "code",
   "execution_count": 3,
   "metadata": {
    "dotnet_interactive": {
     "language": "fsharp"
    },
    "polyglot_notebook": {
     "language": "fsharp"
    },
    "vscode": {
     "languageId": "dotnet-interactive.fsharp"
    }
   },
   "outputs": [
    {
     "name": "stdout",
     "output_type": "stream",
     "text": [
      "69795\r\n"
     ]
    }
   ],
   "source": [
    "// Day 01 Part 1\n",
    "\n",
    "let input = File.ReadAllLines(@\"input.txt\") |> Array.toList\n",
    "\n",
    "let count_calories input  = \n",
    "    let rec count input acc calories = \n",
    "        match input with\n",
    "        | head :: tail -> \n",
    "            match head with\n",
    "            | \"\" -> \n",
    "                count tail 0 (calories @ [acc])\n",
    "            | num -> count tail (acc + (num |> int)) calories\n",
    "        | [] -> \n",
    "            calories\n",
    "    count input 0 [0]\n",
    "let result = count_calories input |> List.max\n",
    "printfn \"%A\" result"
   ]
  },
  {
   "cell_type": "code",
   "execution_count": 2,
   "metadata": {
    "dotnet_interactive": {
     "language": "fsharp"
    },
    "vscode": {
     "languageId": "dotnet-interactive.fsharp"
    }
   },
   "outputs": [
    {
     "name": "stdout",
     "output_type": "stream",
     "text": [
      "208437\r\n"
     ]
    }
   ],
   "source": [
    "// Day 01 Part 2 Recursive\n",
    "\n",
    "let input = File.ReadAllLines(@\"input.txt\") |> Array.toList\n",
    "\n",
    "let count_calories input  = \n",
    "    let rec count input acc calories = \n",
    "        match input with\n",
    "        | head :: tail -> \n",
    "            match head with\n",
    "            | \"\" -> \n",
    "                count tail 0 (calories @ [acc])\n",
    "            | num -> count tail (acc + (num |> int)) calories\n",
    "        | [] -> \n",
    "            calories\n",
    "    count input 0 [0]\n",
    "let result = count_calories input |> List.sort\n",
    "let size = result.Length\n",
    "let combined_result = result[size-3 .. size] |> List.sum\n",
    "printfn \"%d\" combined_result"
   ]
  }
 ],
 "metadata": {
  "kernelspec": {
   "display_name": ".NET (F#)",
   "language": "F#",
   "name": ".net-fsharp"
  },
  "language_info": {
   "name": "F#"
  }
 },
 "nbformat": 4,
 "nbformat_minor": 2
}
